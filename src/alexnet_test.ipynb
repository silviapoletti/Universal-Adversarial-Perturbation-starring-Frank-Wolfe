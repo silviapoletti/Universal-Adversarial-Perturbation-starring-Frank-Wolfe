{
 "cells": [
  {
   "cell_type": "code",
   "execution_count": null,
   "metadata": {},
   "outputs": [],
   "source": [
    "from alexnet import *\n",
    "import numpy as np\n",
    "import matplotlib.pyplot as plt"
   ]
  },
  {
   "cell_type": "code",
   "execution_count": 1,
   "metadata": {
    "colab": {
     "base_uri": "https://localhost:8080/"
    },
    "id": "f0-4HtfE_hrd",
    "outputId": "436627af-4ee5-4557-f83e-152f175aaea6"
   },
   "outputs": [
    {
     "name": "stdout",
     "output_type": "stream",
     "text": [
      "Epoch 1/5\n",
      "907/907 [==============================] - 112s 120ms/step - loss: 0.5109 - accuracy: 0.8168 - val_loss: 0.1063 - val_accuracy: 0.9685\n",
      "Epoch 2/5\n",
      "907/907 [==============================] - 108s 120ms/step - loss: 0.0984 - accuracy: 0.9742 - val_loss: 0.0521 - val_accuracy: 0.9870\n",
      "Epoch 3/5\n",
      "907/907 [==============================] - 108s 119ms/step - loss: 0.0768 - accuracy: 0.9805 - val_loss: 0.0496 - val_accuracy: 0.9890\n",
      "Epoch 4/5\n",
      "907/907 [==============================] - 108s 119ms/step - loss: 0.0644 - accuracy: 0.9831 - val_loss: 0.0495 - val_accuracy: 0.9885\n",
      "Epoch 5/5\n",
      "907/907 [==============================] - 108s 119ms/step - loss: 0.0538 - accuracy: 0.9861 - val_loss: 0.0681 - val_accuracy: 0.9835\n",
      "INFO:tensorflow:Assets written to: ../data/alexnet/assets\n"
     ]
    }
   ],
   "source": [
    "# Load a pre-trained AlexNet classifier from a path --> load=True\n",
    "# or train AlexNet classifier and save the model to a path --> load=False\n",
    "path = '../data/alexnet'\n",
    "alex = AlexNet(path=path, load=False)"
   ]
  },
  {
   "cell_type": "code",
   "execution_count": 145,
   "metadata": {
    "id": "nXfvroXCPfnS"
   },
   "outputs": [],
   "source": [
    "# Load dataset\n",
    "_, (x_test, y_test) = datasets.mnist.load_data()"
   ]
  },
  {
   "cell_type": "code",
   "execution_count": 147,
   "metadata": {
    "id": "eFA6fIlLAlzf"
   },
   "outputs": [],
   "source": [
    "# Adversarial perturbation\n",
    "###########################\n",
    "\n",
    "# Definition of delta:\n",
    "delta = np.load(\"report_perturbation_m15_T100.npy\")\n",
    "delta = np.tile(delta, 10000)\n",
    "delta = delta.reshape(10000, 28, 28)\n",
    "\n",
    "# Perturbed data with adversarial noise:\n",
    "perturbed_data = x_test + delta\n",
    "perturbed_data = np.clip(perturbed_data,0,1)\n",
    "\n",
    "# Add 3 channels for AlexNet:\n",
    "perturbed_data = tf.pad(perturbed_data, [[0, 0], [2, 2], [2, 2]])\n",
    "perturbed_data = np.clip(perturbed_data,0,1)\n",
    "perturbed_data = tf.expand_dims(perturbed_data, axis=3, name=None)\n",
    "perturbed_data = tf.repeat(perturbed_data, 3, axis=3)"
   ]
  },
  {
   "cell_type": "code",
   "execution_count": 178,
   "metadata": {
    "id": "dU-XgLgLXfMf"
   },
   "outputs": [],
   "source": [
    "# Gaussian perturbation\n",
    "########################\n",
    "\n",
    "# Definition of the amount of noise:\n",
    "noise = np.random.normal(0,0.3,784)\n",
    "noise = np.tile(noise, 10000)\n",
    "noise = noise.reshape(10000, 28, 28)\n",
    "\n",
    "# Perturbed data with gaussian noise:\n",
    "noise_data = x_test+noise\n",
    "noise_data = np.clip(noise_data,0,1)\n",
    "\n",
    "# Add 3 channels for AlexNet:\n",
    "noise_data = tf.pad(noise_data, [[0, 0], [2, 2], [2, 2]])\n",
    "noise_data = np.clip(noise_data,0,1)\n",
    "noise_data = tf.expand_dims(noise_data, axis=3, name=None)\n",
    "noise_data = tf.repeat(noise_data, 3, axis=3)"
   ]
  },
  {
   "cell_type": "code",
   "execution_count": 176,
   "metadata": {
    "colab": {
     "base_uri": "https://localhost:8080/",
     "height": 283
    },
    "id": "PYwoaPerMg7C",
    "outputId": "81828aca-e0ca-4f35-d11c-4b1c75f198ee"
   },
   "outputs": [
    {
     "data": {
      "text/plain": [
       "<matplotlib.image.AxesImage at 0x7fe8ae164950>"
      ]
     },
     "execution_count": 176,
     "metadata": {
      "tags": []
     },
     "output_type": "execute_result"
    },
    {
     "data": {
      "image/png": "[encoded data removed]",
      "text/plain": [
       "<Figure size 432x288 with 1 Axes>"
      ]
     },
     "metadata": {
      "needs_background": "light",
      "tags": []
     },
     "output_type": "display_data"
    }
   ],
   "source": [
    "# Adversarial example\n",
    "plt.imshow(perturbed_data[0], cmap='Greys')"
   ]
  },
  {
   "cell_type": "code",
   "execution_count": 182,
   "metadata": {
    "colab": {
     "base_uri": "https://localhost:8080/",
     "height": 283
    },
    "id": "_KYhD3fbYF_6",
    "outputId": "1319d3ca-3989-4e25-8212-a38548ece75d"
   },
   "outputs": [
    {
     "data": {
      "text/plain": [
       "<matplotlib.image.AxesImage at 0x7fe8ae126b90>"
      ]
     },
     "execution_count": 182,
     "metadata": {
      "tags": []
     },
     "output_type": "execute_result"
    },
    {
     "data": {
      "image/png": "[encoded data removed]",
      "text/plain": [
       "<Figure size 432x288 with 1 Axes>"
      ]
     },
     "metadata": {
      "needs_background": "light",
      "tags": []
     },
     "output_type": "display_data"
    }
   ],
   "source": [
    "# Gaussian noise example\n",
    "plt.imshow(noise_data[0], cmap='Greys')"
   ]
  },
  {
   "cell_type": "code",
   "execution_count": 19,
   "metadata": {
    "colab": {
     "base_uri": "https://localhost:8080/"
    },
    "id": "OokrUsp0EbPn",
    "outputId": "e3b87cdc-481a-455a-b934-a7f7746ccad3"
   },
   "outputs": [
    {
     "name": "stdout",
     "output_type": "stream",
     "text": [
      "313/313 [==============================] - 7s 23ms/step - loss: 0.0726 - accuracy: 0.9818\n"
     ]
    },
    {
     "data": {
      "text/plain": [
       "[0.07262216508388519, 0.9818000197410583]"
      ]
     },
     "execution_count": 19,
     "metadata": {
      "tags": []
     },
     "output_type": "execute_result"
    }
   ],
   "source": [
    "# High accuracy on the original dataset\n",
    "alex.model.evaluate(x_test, y_test, verbose=1)"
   ]
  },
  {
   "cell_type": "code",
   "execution_count": 177,
   "metadata": {
    "colab": {
     "base_uri": "https://localhost:8080/"
    },
    "id": "zm9QAXJGEJJY",
    "outputId": "ed9f85ac-0cc3-4310-d493-3fcd5e89b2e4"
   },
   "outputs": [
    {
     "name": "stdout",
     "output_type": "stream",
     "text": [
      "313/313 [==============================] - 7s 24ms/step - loss: 3.2369 - accuracy: 0.3295\n"
     ]
    },
    {
     "data": {
      "text/plain": [
       "[3.236900806427002, 0.3294999897480011]"
      ]
     },
     "execution_count": 177,
     "metadata": {
      "tags": []
     },
     "output_type": "execute_result"
    }
   ],
   "source": [
    "# Very low accuracy on the Adversarial dataset\n",
    "alex.model.evaluate(perturbed_data, y_test, verbose=1)"
   ]
  },
  {
   "cell_type": "code",
   "execution_count": 183,
   "metadata": {
    "colab": {
     "base_uri": "https://localhost:8080/"
    },
    "id": "2EpuqHRJYL7X",
    "outputId": "8af5d683-eda3-45be-a419-1851080afb70"
   },
   "outputs": [
    {
     "name": "stdout",
     "output_type": "stream",
     "text": [
      "313/313 [==============================] - 8s 24ms/step - loss: 0.8424 - accuracy: 0.7373\n"
     ]
    },
    {
     "data": {
      "text/plain": [
       "[0.84243243932724, 0.7372999787330627]"
      ]
     },
     "execution_count": 183,
     "metadata": {
      "tags": []
     },
     "output_type": "execute_result"
    }
   ],
   "source": [
    "# Quite acceptable accuracy on the Gaussian noise dataset\n",
    "alex.model.evaluate(noise_data, y_test, verbose=1)"
   ]
  }
 ],
 "metadata": {
  "accelerator": "GPU",
  "colab": {
   "name": "alexnet_test.ipynb",
   "provenance": []
  },
  "kernelspec": {
   "display_name": "Python 3",
   "language": "python",
   "name": "python3"
  },
  "language_info": {
   "codemirror_mode": {
    "name": "ipython",
    "version": 3
   },
   "file_extension": ".py",
   "mimetype": "text/x-python",
   "name": "python",
   "nbconvert_exporter": "python",
   "pygments_lexer": "ipython3",
   "version": "3.8.8"
  }
 },
 "nbformat": 4,
 "nbformat_minor": 1
}
